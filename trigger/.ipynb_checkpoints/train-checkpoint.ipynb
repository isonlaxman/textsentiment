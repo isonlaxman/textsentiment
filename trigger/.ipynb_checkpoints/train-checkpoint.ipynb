{
 "cells": [
  {
   "cell_type": "code",
   "execution_count": 1,
   "metadata": {},
   "outputs": [],
   "source": [
    "import json\n",
    "import pandas as pd\n",
    "import os\n",
    "\n",
    "\n",
    "from sklearn.datasets import fetch_20newsgroups\n",
    "from sklearn.feature_extraction.text import CountVectorizer\n",
    "from sklearn.feature_extraction.text import TfidfTransformer\n",
    "from sklearn.naive_bayes import MultinomialNB\n",
    "from sklearn.linear_model import SGDClassifier\n",
    "\n",
    "import numpy as np"
   ]
  },
  {
   "cell_type": "code",
   "execution_count": 2,
   "metadata": {},
   "outputs": [],
   "source": [
    "ask = pd.read_csv(\"../data/final_ask.csv\", header=None)\n",
    "ask = ask.iloc[1:].drop_duplicates(subset=[0])\n",
    "college = pd.read_csv(\"../data/college_csv.csv\", header=None).drop_duplicates(subset=[0])\n",
    "combined = pd.read_csv(\"../data/combined_csv.csv\", header=None).drop_duplicates(subset=[0])"
   ]
  },
  {
   "cell_type": "code",
   "execution_count": 3,
   "metadata": {},
   "outputs": [
    {
     "name": "stdout",
     "output_type": "stream",
     "text": [
      "                                                        0  1\n",
      "0        Correct, I like my windows open too...but I d...  0\n",
      "1       &gt;  I am going to assume that you're joking/...  0\n",
      "2       &gt; \"Reduced Instruction Set Computing\"\\n\\nTh...  0\n",
      "3       &gt; Any non violent solutions?\\n\\nYou can vot...  0\n",
      "4       &gt; It's like they don't want to sell them.\\n...  0\n",
      "5       &gt; Jim Jones used tactics and substance to c...  0\n",
      "6       &gt; Lance Armstrong\\n\\nI get your overall poi...  0\n",
      "7       &gt; [the same people that tell me to not have...  0\n",
      "8       &gt; should be using\\n\\nWell there's your prob...  0\n",
      "9       &gt;If a Big Mac costs $4 in the US and £3 in ...  0\n",
      "10      &gt;Well, people who aren't taking either side...  0\n",
      "11      ''using an algorithm'' lol.\\n\\nReminds me how ...  0\n",
      "12      *sigh*...The point of what I was saying (in re...  0\n",
      "13      A \"danger\"? Where did that come from? A cursor...  0\n",
      "14      A couple things I don't quite understand:\\n\\n1...  0\n",
      "15      A fairly small amount of nukes can ruin things...  0\n",
      "16      A femininist would absolutely agree with me th...  0\n",
      "17      A good example in science is simply trying to ...  0\n",
      "18      A transcendental equation is so-named when the...  0\n",
      "19      A well trained human can run for about 50 to 1...  0\n",
      "20      Adaptation from evolution. Humans brains are o...  0\n",
      "21      Again, you are stupid if you think Americans d...  0\n",
      "22      Air can hold a specific amount of water vapor,...  0\n",
      "23      All the people that say \"Oh my god, Johnson ju...  0\n",
      "24      Alright, this is going to be super easy becaus...  0\n",
      "25      Also efficiency often. Even if your game can r...  0\n",
      "26      Are you sure about that? This [comment](https:...  0\n",
      "27      Assuming you're in the US, try reaching out to...  0\n",
      "28      At least for first few rows the reason is that...  0\n",
      "29      Bang on the money. Ego and attention, bragging...  0\n",
      "...                                                   ... ..\n",
      "199970  A conceit that we must take, but that there sh...  0\n",
      "199971  Anatomically modern humans, Homo Sapiens Sapie...  0\n",
      "199972  Hi John, thanks for taking the time to do this...  0\n",
      "199973  I agree with you about an open container. In t...  0\n",
      "199974  I have the supreme displeasure of working an o...  0\n",
      "199975  I understand this question a bit differently t...  0\n",
      "199976  This was definitely a long time ago for me but...  0\n",
      "199977  What's the weather like? Electric tends to be ...  0\n",
      "199978  Your submission has been removed because it co...  0\n",
      "199979  Your submission has been removed because it co...  0\n",
      "199980  Your submission has been removed because it co...  0\n",
      "199981  Your submission has been removed because it co...  0\n",
      "199982  Your submission has been removed because it co...  0\n",
      "199983  Your submission has been removed because the q...  0\n",
      "199984  Backtracking from \"Iraqis own their oil\" to \"t...  0\n",
      "199985  If he's not actively a white supremacist, he's...  0\n",
      "199986  There are some places like college campuses th...  0\n",
      "199987  Avast ye! Yer not alone in askin', and kind st...  0\n",
      "199988  The 'pro GMO brigade' which has shown up to pr...  0\n",
      "199989  There are many other ways to have safe sex whe...  0\n",
      "199990  \\- There's been talk about it for quite some t...  0\n",
      "199991  &gt; Democracy is simply a euphemism for tyran...  0\n",
      "199992  Hi!  My name is Rachel Zietz, I'm currently 17...  0\n",
      "199993  Other videos in this thread: [Watch Playlist &...  0\n",
      "199994  Does an organ transplant make you any less \"yo...  0\n",
      "199995  The answer is that you don’t have to do the mo...  0\n",
      "199996  &gt; So it's impossible to fuse elements heavi...  0\n",
      "199997  &gt; These leave voters I know did actually vo...  0\n",
      "199998  This has been a fun conversation!\\n\\nPerhaps, ...  0\n",
      "199999  The claim going in was that 'every layman can ...  0\n",
      "\n",
      "[195732 rows x 2 columns]\n"
     ]
    }
   ],
   "source": [
    "print(combined)"
   ]
  },
  {
   "cell_type": "code",
   "execution_count": 4,
   "metadata": {},
   "outputs": [],
   "source": [
    "support = pd.read_csv(\"../data/support_csv.csv\", header=None).drop_duplicates(subset=[0])"
   ]
  },
  {
   "cell_type": "code",
   "execution_count": 33,
   "metadata": {},
   "outputs": [],
   "source": [
    "df = pd.concat([ask, college, support[:200000], combined])"
   ]
  },
  {
   "cell_type": "code",
   "execution_count": 34,
   "metadata": {},
   "outputs": [],
   "source": [
    "df = df.sample(frac=1).reset_index(drop=True)"
   ]
  },
  {
   "cell_type": "code",
   "execution_count": 6,
   "metadata": {},
   "outputs": [],
   "source": [
    "ask = pd.DataFrame({0 : ['hello hello my name is', 'a'], 1: [0, 1]})"
   ]
  },
  {
   "cell_type": "code",
   "execution_count": null,
   "metadata": {
    "scrolled": true
   },
   "outputs": [],
   "source": [
    "# print(type(ask.iloc[0,1]))\n",
    "# twenty_test = fetch_20newsgroups(subset='test', shuffle=True)\n",
    "# print(twenty_test.data[0])"
   ]
  },
  {
   "cell_type": "code",
   "execution_count": 35,
   "metadata": {},
   "outputs": [],
   "source": [
    "count_vect = CountVectorizer(stop_words='english')"
   ]
  },
  {
   "cell_type": "code",
   "execution_count": 36,
   "metadata": {
    "scrolled": false
   },
   "outputs": [],
   "source": [
    "X_train_counts = count_vect.fit_transform(df.iloc[0:300000, 0])\n",
    "# print(X_train_counts)"
   ]
  },
  {
   "cell_type": "code",
   "execution_count": 37,
   "metadata": {},
   "outputs": [
    {
     "name": "stdout",
     "output_type": "stream",
     "text": [
      "(300000, 141326)\n"
     ]
    }
   ],
   "source": [
    "tfidf_transformer = TfidfTransformer()\n",
    "X_train_tfidf = tfidf_transformer.fit_transform(X_train_counts)\n",
    "print(X_train_tfidf.shape)"
   ]
  },
  {
   "cell_type": "code",
   "execution_count": 38,
   "metadata": {},
   "outputs": [],
   "source": [
    "clf = MultinomialNB().fit(X_train_tfidf, df.iloc[0:300000, 1])"
   ]
  },
  {
   "cell_type": "code",
   "execution_count": 39,
   "metadata": {},
   "outputs": [
    {
     "name": "stdout",
     "output_type": "stream",
     "text": [
      "[0 1 1 ... 0 1 1]\n"
     ]
    }
   ],
   "source": [
    "predicted = clf.predict(count_vect.transform(df.iloc[300001:, 0]))\n",
    "print(predicted)"
   ]
  },
  {
   "cell_type": "code",
   "execution_count": 40,
   "metadata": {},
   "outputs": [
    {
     "data": {
      "text/plain": [
       "0.8361637434562119"
      ]
     },
     "execution_count": 40,
     "metadata": {},
     "output_type": "execute_result"
    }
   ],
   "source": [
    "np.mean(predicted == df.iloc[300001:, 1])"
   ]
  },
  {
   "cell_type": "code",
   "execution_count": 41,
   "metadata": {},
   "outputs": [
    {
     "name": "stdout",
     "output_type": "stream",
     "text": [
      "[0]\n"
     ]
    }
   ],
   "source": [
    "print(clf.predict(count_vect.transform([\"What is this\"])))"
   ]
  },
  {
   "cell_type": "code",
   "execution_count": 28,
   "metadata": {},
   "outputs": [
    {
     "name": "stdout",
     "output_type": "stream",
     "text": [
      "0    ): yes you would think I had willpower since I...\n",
      "1                                                    1\n",
      "Name: 400004, dtype: object\n"
     ]
    }
   ],
   "source": [
    "print(df.iloc[400004])"
   ]
  },
  {
   "cell_type": "code",
   "execution_count": null,
   "metadata": {},
   "outputs": [],
   "source": []
  }
 ],
 "metadata": {
  "kernelspec": {
   "display_name": "Python 3",
   "language": "python",
   "name": "python3"
  },
  "language_info": {
   "codemirror_mode": {
    "name": "ipython",
    "version": 3
   },
   "file_extension": ".py",
   "mimetype": "text/x-python",
   "name": "python",
   "nbconvert_exporter": "python",
   "pygments_lexer": "ipython3",
   "version": "3.7.0"
  }
 },
 "nbformat": 4,
 "nbformat_minor": 2
}
